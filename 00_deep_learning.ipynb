{
  "nbformat": 4,
  "nbformat_minor": 0,
  "metadata": {
    "colab": {
      "provenance": [],
      "authorship_tag": "ABX9TyNlHKtEWv1ITABEamjqPPB7",
      "include_colab_link": true
    },
    "kernelspec": {
      "name": "python3",
      "display_name": "Python 3"
    },
    "language_info": {
      "name": "python"
    }
  },
  "cells": [
    {
      "cell_type": "markdown",
      "metadata": {
        "id": "view-in-github",
        "colab_type": "text"
      },
      "source": [
        "<a href=\"https://colab.research.google.com/github/stepsbtw/Machine-Learning/blob/main/00_deep_learning.ipynb\" target=\"_parent\"><img src=\"https://colab.research.google.com/assets/colab-badge.svg\" alt=\"Open In Colab\"/></a>"
      ]
    },
    {
      "cell_type": "markdown",
      "source": [
        "# Redes Neurais Artificiais\n",
        "Em linhas gerais, uma RNA é uma coleção de funções aninhadas que são realizadas emcima de alguns dados de entrada.\n",
        "\n",
        "Essas funções são definidas por parâmetros (pesos e viéses).\n",
        "\n",
        "No Pytorch, são armazenados em **TENSORES**\n",
        "\n",
        "# Pytorch : Conceitos Básicos\n",
        "\n",
        "Tensor é um nome genérico para dentodar vários objetos matemáticos.\n",
        "\n",
        "Um tensor vai ser qualquer array n-dimensional de números.\n",
        "\n",
        "Um tensor tem apenas um único tipo de dados!"
      ],
      "metadata": {
        "id": "9qDv_qv1atFd"
      }
    },
    {
      "cell_type": "code",
      "execution_count": 2,
      "metadata": {
        "colab": {
          "base_uri": "https://localhost:8080/"
        },
        "id": "yi5FsspEamcb",
        "outputId": "e3f6e959-03e8-4e6c-9afe-a4d9fdbcee31"
      },
      "outputs": [
        {
          "output_type": "stream",
          "name": "stdout",
          "text": [
            "tensor(42.)\n",
            "torch.float32\n"
          ]
        }
      ],
      "source": [
        "import torch\n",
        "\n",
        "meu_tensor = torch.tensor(42.0)\n",
        "\n",
        "print(meu_tensor) # um número é um tensor!\n",
        "print(meu_tensor.dtype)"
      ]
    },
    {
      "cell_type": "code",
      "source": [
        "import numpy as np\n",
        "arr = np.array([[1,2],[3,4],[5,6]])\n",
        "\n",
        "tens = torch.tensor(arr)\n",
        "print(tens)"
      ],
      "metadata": {
        "colab": {
          "base_uri": "https://localhost:8080/"
        },
        "id": "qcp6RpITcjKs",
        "outputId": "9baa88c8-92f5-447f-eae9-f1a929c6b377"
      },
      "execution_count": 13,
      "outputs": [
        {
          "output_type": "stream",
          "name": "stdout",
          "text": [
            "tensor([[1, 2],\n",
            "        [3, 4],\n",
            "        [5, 6]])\n"
          ]
        }
      ]
    },
    {
      "cell_type": "code",
      "source": [
        "print(tens[-1])\n",
        "print(tens[0])"
      ],
      "metadata": {
        "colab": {
          "base_uri": "https://localhost:8080/"
        },
        "id": "N9gdWm69dEL2",
        "outputId": "899ad9dc-a642-4f67-acf7-b9af42ad34dd"
      },
      "execution_count": 14,
      "outputs": [
        {
          "output_type": "stream",
          "name": "stdout",
          "text": [
            "tensor([5, 6])\n",
            "tensor([1, 2])\n"
          ]
        }
      ]
    },
    {
      "cell_type": "code",
      "source": [
        "tens[0][0] = 0.745\n",
        "print(tens)"
      ],
      "metadata": {
        "colab": {
          "base_uri": "https://localhost:8080/"
        },
        "id": "APFCq0JodYe7",
        "outputId": "61c11525-e09f-4a0d-a115-3f2c8f4310bb"
      },
      "execution_count": 17,
      "outputs": [
        {
          "output_type": "stream",
          "name": "stdout",
          "text": [
            "tensor([[0, 2],\n",
            "        [3, 4],\n",
            "        [5, 6]])\n"
          ]
        }
      ]
    },
    {
      "cell_type": "markdown",
      "source": [
        "Como foi dito, um tensor tem apenas UM tipo de dados!"
      ],
      "metadata": {
        "id": "gZuvKCnLdttj"
      }
    },
    {
      "cell_type": "code",
      "source": [
        "y = torch.tensor([\n",
        "     [\n",
        "       [1, 2, 3],\n",
        "       [4, 5, 6]\n",
        "     ],\n",
        "     [\n",
        "       [1, 2, 3],\n",
        "       [4, 5, 6]\n",
        "     ],\n",
        "     [\n",
        "       [1, 2, 3],\n",
        "       [4, 5, 6]\n",
        "     ]\n",
        "   ])\n",
        "\n",
        "# TENSOR TRIDIMENSIONAL!\n",
        "y"
      ],
      "metadata": {
        "id": "VhizksTnd8V2",
        "outputId": "5b2f9efe-df6e-439b-dc1c-f972980185d2",
        "colab": {
          "base_uri": "https://localhost:8080/"
        }
      },
      "execution_count": 19,
      "outputs": [
        {
          "output_type": "execute_result",
          "data": {
            "text/plain": [
              "tensor([[[1, 2, 3],\n",
              "         [4, 5, 6]],\n",
              "\n",
              "        [[1, 2, 3],\n",
              "         [4, 5, 6]],\n",
              "\n",
              "        [[1, 2, 3],\n",
              "         [4, 5, 6]]])"
            ]
          },
          "metadata": {},
          "execution_count": 19
        }
      ]
    },
    {
      "cell_type": "markdown",
      "source": [
        "O tamanho de cada dimensão pode ser checado!"
      ],
      "metadata": {
        "id": "H4fnQmrGeQRe"
      }
    },
    {
      "cell_type": "code",
      "source": [
        "y.shape"
      ],
      "metadata": {
        "id": "sRvDdrz-eOrl",
        "outputId": "9d588613-1494-4fb9-a923-b087feaadd2c",
        "colab": {
          "base_uri": "https://localhost:8080/"
        }
      },
      "execution_count": 20,
      "outputs": [
        {
          "output_type": "execute_result",
          "data": {
            "text/plain": [
              "torch.Size([3, 2, 3])"
            ]
          },
          "metadata": {},
          "execution_count": 20
        }
      ]
    },
    {
      "cell_type": "markdown",
      "source": [
        "Lista com 3 Listas (com 2 Listas (com 3 elementos))"
      ],
      "metadata": {
        "id": "PrRX6J7UenhR"
      }
    },
    {
      "cell_type": "markdown",
      "source": [
        "#Operações entre tensores"
      ],
      "metadata": {
        "id": "naB4aUzHfOol"
      }
    },
    {
      "cell_type": "code",
      "source": [
        "w = torch.tensor([0.3, 0.5])\n",
        "x = torch.tensor([1.0, 2.0])\n",
        "b = torch.tensor([0.5, 10.0])\n",
        "\n",
        "y = w*x+b\n",
        "\n",
        "y"
      ],
      "metadata": {
        "id": "1WI7d91jfVxw",
        "outputId": "af813901-79fe-4c42-91a9-db1123f1ee39",
        "colab": {
          "base_uri": "https://localhost:8080/"
        }
      },
      "execution_count": 25,
      "outputs": [
        {
          "output_type": "execute_result",
          "data": {
            "text/plain": [
              "tensor([ 0.8000, 11.0000])"
            ]
          },
          "metadata": {},
          "execution_count": 25
        }
      ]
    },
    {
      "cell_type": "markdown",
      "source": [
        "Note que * vai multiplicar elemento por elemento.\n",
        "\n",
        "Porém temos a operação @ que **Multiplica TENSORES**"
      ],
      "metadata": {
        "id": "ReSnj-DdfyOm"
      }
    },
    {
      "cell_type": "code",
      "source": [
        "A = torch.tensor([[0, 1, 2],\n",
        "                  [3, 4, 5],\n",
        "                  [6, 7, 8],\n",
        "                  [9, 7, 8],\n",
        "                  [7, 6, 5]])\n",
        "\n",
        "B = torch.tensor([[0, 1, 2, 3],\n",
        "                  [3, 4, 5, 6],\n",
        "                  [7, 8, 9, 10]])\n",
        "\n",
        "C = A @ B\n",
        "C\n",
        "# D = B @ A impossivel"
      ],
      "metadata": {
        "id": "veVR0OFjglbR",
        "outputId": "9182812f-922b-43c1-abea-158e4c8a5c05",
        "colab": {
          "base_uri": "https://localhost:8080/"
        }
      },
      "execution_count": 32,
      "outputs": [
        {
          "output_type": "execute_result",
          "data": {
            "text/plain": [
              "tensor([[ 17,  20,  23,  26],\n",
              "        [ 47,  59,  71,  83],\n",
              "        [ 77,  98, 119, 140],\n",
              "        [ 77, 101, 125, 149],\n",
              "        [ 53,  71,  89, 107]])"
            ]
          },
          "metadata": {},
          "execution_count": 32
        }
      ]
    },
    {
      "cell_type": "markdown",
      "source": [
        "É basicamente uma multiplicação de matrizes ( só que podemos ter n dimensões )\n",
        "\n",
        "- A : 5x3\n",
        "- B : 3x4\n",
        "- A @ B : 5x4"
      ],
      "metadata": {
        "id": "KeCuI8D4gzeu"
      }
    },
    {
      "cell_type": "code",
      "source": [
        "A = torch.tensor([[7, 6, 5]])\n",
        "\n",
        "B = torch.tensor([[0, 1, 2, 3],\n",
        "                  [3, 4, 5, 6],\n",
        "                  [7, 8, 9, 10]])\n",
        "\n",
        "C = A @ B\n",
        "C"
      ],
      "metadata": {
        "id": "MHMF7lpviQoP",
        "outputId": "efb7666e-5fb6-4ca2-e3f7-4faf21c25bed",
        "colab": {
          "base_uri": "https://localhost:8080/"
        }
      },
      "execution_count": 31,
      "outputs": [
        {
          "output_type": "execute_result",
          "data": {
            "text/plain": [
              "tensor([[ 53,  71,  89, 107]])"
            ]
          },
          "metadata": {},
          "execution_count": 31
        }
      ]
    },
    {
      "cell_type": "markdown",
      "source": [
        "Além disso podemos **TRANSPOR** tensores"
      ],
      "metadata": {
        "id": "f1e3hwbOiN_w"
      }
    },
    {
      "cell_type": "code",
      "source": [
        "M = torch.tensor([[0, 1, 2, 3],\n",
        "                  [3, 4, 5, 6],\n",
        "                  [7, 8, 9, 10]])\n",
        "M.t()"
      ],
      "metadata": {
        "id": "O4PuVNGMhf0x",
        "outputId": "d0e92428-df34-4f88-b3d7-dbeeab10f142",
        "colab": {
          "base_uri": "https://localhost:8080/"
        }
      },
      "execution_count": 29,
      "outputs": [
        {
          "output_type": "execute_result",
          "data": {
            "text/plain": [
              "tensor([[ 0,  3,  7],\n",
              "        [ 1,  4,  8],\n",
              "        [ 2,  5,  9],\n",
              "        [ 3,  6, 10]])"
            ]
          },
          "metadata": {},
          "execution_count": 29
        }
      ]
    },
    {
      "cell_type": "markdown",
      "source": [
        "MATRIZ é um **TENSOR 2D**"
      ],
      "metadata": {
        "id": "Ge_dFzH6hypJ"
      }
    }
  ]
}