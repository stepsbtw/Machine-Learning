{
  "nbformat": 4,
  "nbformat_minor": 0,
  "metadata": {
    "colab": {
      "provenance": [],
      "authorship_tag": "ABX9TyNI2PhGuGlegl3eVkp6uuIj",
      "include_colab_link": true
    },
    "kernelspec": {
      "name": "python3",
      "display_name": "Python 3"
    },
    "language_info": {
      "name": "python"
    }
  },
  "cells": [
    {
      "cell_type": "markdown",
      "metadata": {
        "id": "view-in-github",
        "colab_type": "text"
      },
      "source": [
        "<a href=\"https://colab.research.google.com/github/stepsbtw/Machine-Learning/blob/main/principal_component_analysis.ipynb\" target=\"_parent\"><img src=\"https://colab.research.google.com/assets/colab-badge.svg\" alt=\"Open In Colab\"/></a>"
      ]
    },
    {
      "cell_type": "markdown",
      "source": [
        "# Principal Component Analysis (PCA)\n",
        "\n",
        "Técnica de redução de dimensionalidade bastante usada. Seu objetivo principal é transformar um dataset em um espaço com menos dimensões, preservando ao máximo a **variância dos dados** (informação)."
      ],
      "metadata": {
        "id": "G2uRWKWpfwUN"
      }
    },
    {
      "cell_type": "markdown",
      "source": [
        "## Intuição\n",
        "PCA encontra novos eixos (bases) chamadas Componentes Principais, e elas são:\n",
        "\n",
        "1. **Ortogonais** (Não Correlacionadas).\n",
        "2. **Ordenadas** pela quantidade de variância capturada.\n",
        "\n",
        "**Projetamos** os dados nessas primeiras **k** componentes, podemos obter uma representação sub-dimensional que ainda retém as features mais informativas!"
      ],
      "metadata": {
        "id": "WO8bqJsRgNkw"
      }
    },
    {
      "cell_type": "markdown",
      "source": [
        "## Por que usar o PCA?\n",
        "\n",
        "- **Simplifica** Modelos\n",
        "- Remove features **correlatas**\n",
        "- Visualização de dados de alta dimensão em (2D ou 3D)\n",
        "- Acelera algoritmos de machine learning\n",
        "- Diminui o **ruído** (noise) dos dados."
      ],
      "metadata": {
        "id": "gtR7Jf5vgxv_"
      }
    },
    {
      "cell_type": "markdown",
      "source": [
        "## Como funciona?\n",
        "\n",
        "Dado um Dataset $X ∈ ℝ^{m x d}$ :\n",
        "\n",
        "1. Padronizar (Centralizar e Normalizar) a matriz $X$\n",
        "\n",
        "$$\n",
        "X = \\frac{X - μ}{σ}\n",
        "$$\n",
        "\n",
        "2. Computar $Σ$, a matriz de **covariância** da matriz $X$:\n",
        "\n",
        "$$\n",
        "Σ = \\frac{1}{m-1} ∑^m_{i=i}(x^{(i)}x^{(i)^T})\n",
        "$$\n",
        "\n",
        "3. Decompor $Σ$ usando SVD (Singular Variable Decomposition): $$Σ = USV^T$$\n",
        "\n",
        "4. Selecionar as $k$ colunas de $U$ correspondendo aos $k$ maiores valores singulares de $S$. Essas são as $k$ componentes principais.\n",
        "\n",
        "5. Contruir a Matriz de Projeção: $W = [u_1,u_2,...,u_k]$\n",
        "\n",
        "6. Projetar os dados sobre a base formada de $U$: $X_{proj} = XW$"
      ],
      "metadata": {
        "id": "Dk3A5TC_hHRM"
      }
    },
    {
      "cell_type": "markdown",
      "source": [
        "## Cuidado!\n",
        "- O PCA é **linear** : Não é capaz de capturar padrões não-lineares. Pra isso, tente UMAP ou t-SNE.\n",
        "- As componentes principais são **difíceis de interpretar**: São combinações das features originais\n",
        "- É **sensível ao scaling das Features**"
      ],
      "metadata": {
        "id": "kH9e_DWWlOUx"
      }
    },
    {
      "cell_type": "markdown",
      "source": [
        "# Decomposição SVD\n",
        "\n",
        "Entender como o SVD encontra essas direções ajuda a desmistificar o PCA (Algebra Linear).\n",
        "\n",
        "Dado uma matriz de dados **centralizada** $X∈ℝ^{nxd}$ (n samples e d features):\n",
        "\n",
        "$$\n",
        "X = UΣV^T\n",
        "$$\n",
        "\n",
        "Onde:\n",
        "- $ U ∈ ℝ^{mxm}$: Vetores singulares à esquerda (Direções no espaço de dados)\n",
        "- $ Σ ∈ ℝ^{mxd}$: Matriz diagonal dos **valores singulares** $σ_1 \\geq σ_2 \\geq {...}$\n",
        "- $V^T ∈ ℝ^{dxd}$: Vetores singulares à direita (Direções no espaço de **features**)\n",
        "\n",
        "Entender o SVD geométricamente é realizar que ele **rotaciona e estica** o espaço:\n",
        "$$ \\text{Cada } v_i \\text{ (coluna de V) da uma direcao de variancia maxima}$$\n"
      ],
      "metadata": {
        "id": "wZ8UxVQ9l_bK"
      }
    },
    {
      "cell_type": "markdown",
      "source": [
        "## Como?\n",
        "\n",
        "Digamos que queremos $v$ que **captura o máximo de variância** ao projetar os dados."
      ],
      "metadata": {
        "id": "Wwq0jvn0o3JV"
      }
    }
  ]
}