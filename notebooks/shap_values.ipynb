{
  "nbformat": 4,
  "nbformat_minor": 0,
  "metadata": {
    "colab": {
      "provenance": [],
      "authorship_tag": "ABX9TyOR2+u9250b5blMazTWslcd",
      "include_colab_link": true
    },
    "kernelspec": {
      "name": "python3",
      "display_name": "Python 3"
    },
    "language_info": {
      "name": "python"
    }
  },
  "cells": [
    {
      "cell_type": "markdown",
      "metadata": {
        "id": "view-in-github",
        "colab_type": "text"
      },
      "source": [
        "<a href=\"https://colab.research.google.com/github/stepsbtw/Machine-Learning/blob/main/shap_values.ipynb\" target=\"_parent\"><img src=\"https://colab.research.google.com/assets/colab-badge.svg\" alt=\"Open In Colab\"/></a>"
      ]
    },
    {
      "cell_type": "markdown",
      "source": [
        "# SHAP Values (SHapley Additive exPlanations)\n",
        "É um método para explicar as saídas de um modelo de aprendizado de máquina.\n",
        "\n",
        "Baseado nos **Shapley Values** da teoria dos jogos cooperativa.\n",
        "\n",
        "- Distribuir a predição do modelo (\"payout\") de maneira justa pelas features (\"players\")\n",
        "\n",
        "Calcular a **contribuição marginal** ao longo de todas as combinações de features possíveis (\"coalitions\")"
      ],
      "metadata": {
        "id": "FrciNiHlkgF1"
      }
    },
    {
      "cell_type": "markdown",
      "source": [
        "## Passo a Passo\n",
        "1. Escolher um **background dataset** $D ⊆ ℝ^n$ (uma sample dos dados de treino).\n",
        "2. Modelo $h(x) : ℝ^n→ℝ$ e uma instancia $x ∈ ℝ^n$ para explicar.\n",
        "3. Computar o valor **SHAP baseline** (referencia) $\\phi_0$.\n",
        "4. Para cada feature, computar a **média ponderada das contribuições marginais** $\\phi_i$."
      ],
      "metadata": {
        "id": "THpTf5QPln8W"
      }
    },
    {
      "cell_type": "markdown",
      "source": [],
      "metadata": {
        "id": "9OIylZxuN7uL"
      }
    }
  ]
}