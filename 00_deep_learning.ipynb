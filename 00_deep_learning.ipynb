{
  "nbformat": 4,
  "nbformat_minor": 0,
  "metadata": {
    "colab": {
      "provenance": [],
      "authorship_tag": "ABX9TyO64Xgg4GbsoJHPUStbKmzf",
      "include_colab_link": true
    },
    "kernelspec": {
      "name": "python3",
      "display_name": "Python 3"
    },
    "language_info": {
      "name": "python"
    }
  },
  "cells": [
    {
      "cell_type": "markdown",
      "metadata": {
        "id": "view-in-github",
        "colab_type": "text"
      },
      "source": [
        "<a href=\"https://colab.research.google.com/github/stepsbtw/Machine-Learning/blob/main/00_deep_learning.ipynb\" target=\"_parent\"><img src=\"https://colab.research.google.com/assets/colab-badge.svg\" alt=\"Open In Colab\"/></a>"
      ]
    },
    {
      "cell_type": "markdown",
      "source": [
        "# Redes Neurais Artificiais\n",
        "Em linhas gerais, uma RNA é uma coleção de funções aninhadas que são realizadas emcima de alguns dados de entrada.\n",
        "\n",
        "Essas funções são definidas por parâmetros (pesos e viéses).\n",
        "\n",
        "No Pytorch, são armazenados em **TENSORES**\n",
        "\n",
        "# Pytorch : Conceitos Básicos\n",
        "\n",
        "Tensor é um nome genérico para dentodar vários objetos matemáticos.\n",
        "\n",
        "Um tensor vai ser qualquer array n-dimensional de números.\n",
        "\n",
        "Um tensor tem apenas um único tipo de dados!"
      ],
      "metadata": {
        "id": "9qDv_qv1atFd"
      }
    },
    {
      "cell_type": "code",
      "execution_count": 1,
      "metadata": {
        "colab": {
          "base_uri": "https://localhost:8080/"
        },
        "id": "yi5FsspEamcb",
        "outputId": "dade1a17-89f4-4857-8caf-28e63b675b07"
      },
      "outputs": [
        {
          "output_type": "stream",
          "name": "stdout",
          "text": [
            "tensor(42.)\n",
            "torch.float32\n"
          ]
        }
      ],
      "source": [
        "import torch\n",
        "\n",
        "meu_tensor = torch.tensor(42.0)\n",
        "\n",
        "print(meu_tensor) # um número é um tensor!\n",
        "print(meu_tensor.dtype)"
      ]
    },
    {
      "cell_type": "code",
      "source": [
        "import numpy as np\n",
        "arr = np.array([[1,2],[3,4],[5,6]])\n",
        "\n",
        "tens = torch.tensor(arr)\n",
        "print(tens)"
      ],
      "metadata": {
        "colab": {
          "base_uri": "https://localhost:8080/"
        },
        "id": "qcp6RpITcjKs",
        "outputId": "76b7ffa2-ebb6-49e6-ff3b-af5abe41ddda"
      },
      "execution_count": 2,
      "outputs": [
        {
          "output_type": "stream",
          "name": "stdout",
          "text": [
            "tensor([[1, 2],\n",
            "        [3, 4],\n",
            "        [5, 6]])\n"
          ]
        }
      ]
    },
    {
      "cell_type": "code",
      "source": [
        "print(tens[-1])\n",
        "print(tens[0])"
      ],
      "metadata": {
        "colab": {
          "base_uri": "https://localhost:8080/"
        },
        "id": "N9gdWm69dEL2",
        "outputId": "f7837647-cfb5-4479-c29c-6967eb9d0a23"
      },
      "execution_count": 3,
      "outputs": [
        {
          "output_type": "stream",
          "name": "stdout",
          "text": [
            "tensor([5, 6])\n",
            "tensor([1, 2])\n"
          ]
        }
      ]
    },
    {
      "cell_type": "code",
      "source": [
        "tens[0][0] = 0.745\n",
        "print(tens)"
      ],
      "metadata": {
        "colab": {
          "base_uri": "https://localhost:8080/"
        },
        "id": "APFCq0JodYe7",
        "outputId": "19f0733e-c17f-4bf1-8cd0-7f892de23eed"
      },
      "execution_count": 4,
      "outputs": [
        {
          "output_type": "stream",
          "name": "stdout",
          "text": [
            "tensor([[0, 2],\n",
            "        [3, 4],\n",
            "        [5, 6]])\n"
          ]
        }
      ]
    },
    {
      "cell_type": "markdown",
      "source": [
        "Como foi dito, um tensor tem apenas UM tipo de dados!"
      ],
      "metadata": {
        "id": "gZuvKCnLdttj"
      }
    },
    {
      "cell_type": "code",
      "source": [
        "y = torch.tensor([\n",
        "     [\n",
        "       [1, 2, 3],\n",
        "       [4, 5, 6]\n",
        "     ],\n",
        "     [\n",
        "       [1, 2, 3],\n",
        "       [4, 5, 6]\n",
        "     ],\n",
        "     [\n",
        "       [1, 2, 3],\n",
        "       [4, 5, 6]\n",
        "     ]\n",
        "   ])\n",
        "\n",
        "# TENSOR TRIDIMENSIONAL!\n",
        "y"
      ],
      "metadata": {
        "id": "VhizksTnd8V2",
        "outputId": "a7ec5932-7eb8-4b3a-a61c-20cf5ecda837",
        "colab": {
          "base_uri": "https://localhost:8080/"
        }
      },
      "execution_count": 5,
      "outputs": [
        {
          "output_type": "execute_result",
          "data": {
            "text/plain": [
              "tensor([[[1, 2, 3],\n",
              "         [4, 5, 6]],\n",
              "\n",
              "        [[1, 2, 3],\n",
              "         [4, 5, 6]],\n",
              "\n",
              "        [[1, 2, 3],\n",
              "         [4, 5, 6]]])"
            ]
          },
          "metadata": {},
          "execution_count": 5
        }
      ]
    },
    {
      "cell_type": "markdown",
      "source": [
        "O tamanho de cada dimensão pode ser checado!"
      ],
      "metadata": {
        "id": "H4fnQmrGeQRe"
      }
    },
    {
      "cell_type": "code",
      "source": [
        "y.shape"
      ],
      "metadata": {
        "id": "sRvDdrz-eOrl",
        "outputId": "5fbd56ad-22be-4e4f-b29c-0a2fcadbdebb",
        "colab": {
          "base_uri": "https://localhost:8080/"
        }
      },
      "execution_count": 6,
      "outputs": [
        {
          "output_type": "execute_result",
          "data": {
            "text/plain": [
              "torch.Size([3, 2, 3])"
            ]
          },
          "metadata": {},
          "execution_count": 6
        }
      ]
    },
    {
      "cell_type": "markdown",
      "source": [
        "Lista com 3 Listas (com 2 Listas (com 3 elementos))"
      ],
      "metadata": {
        "id": "PrRX6J7UenhR"
      }
    },
    {
      "cell_type": "markdown",
      "source": [
        "#Operações entre tensores"
      ],
      "metadata": {
        "id": "naB4aUzHfOol"
      }
    },
    {
      "cell_type": "code",
      "source": [
        "w = torch.tensor([0.3, 0.5])\n",
        "x = torch.tensor([1.0, 2.0])\n",
        "b = torch.tensor([0.5, 10.0])\n",
        "\n",
        "y = w*x+b # PRODUTO DE HADAMAR\n",
        "\n",
        "y"
      ],
      "metadata": {
        "id": "1WI7d91jfVxw",
        "outputId": "8820c91c-701d-4fa8-fe69-f3c981ff04f4",
        "colab": {
          "base_uri": "https://localhost:8080/"
        }
      },
      "execution_count": 7,
      "outputs": [
        {
          "output_type": "execute_result",
          "data": {
            "text/plain": [
              "tensor([ 0.8000, 11.0000])"
            ]
          },
          "metadata": {},
          "execution_count": 7
        }
      ]
    },
    {
      "cell_type": "markdown",
      "source": [
        "Note que * vai multiplicar elemento por elemento.\n",
        "\n",
        "Porém temos a operação @ que **Multiplica TENSORES**"
      ],
      "metadata": {
        "id": "ReSnj-DdfyOm"
      }
    },
    {
      "cell_type": "code",
      "source": [
        "A = torch.tensor([[0, 1, 2],\n",
        "                  [3, 4, 5],\n",
        "                  [6, 7, 8],\n",
        "                  [9, 7, 8],\n",
        "                  [7, 6, 5]])\n",
        "\n",
        "B = torch.tensor([[0, 1, 2, 3],\n",
        "                  [3, 4, 5, 6],\n",
        "                  [7, 8, 9, 10]])\n",
        "\n",
        "C = A @ B\n",
        "C\n",
        "# D = B @ A impossivel"
      ],
      "metadata": {
        "id": "veVR0OFjglbR",
        "outputId": "ccd0ff73-4038-445f-8e16-a224f0828bf7",
        "colab": {
          "base_uri": "https://localhost:8080/"
        }
      },
      "execution_count": 8,
      "outputs": [
        {
          "output_type": "execute_result",
          "data": {
            "text/plain": [
              "tensor([[ 17,  20,  23,  26],\n",
              "        [ 47,  59,  71,  83],\n",
              "        [ 77,  98, 119, 140],\n",
              "        [ 77, 101, 125, 149],\n",
              "        [ 53,  71,  89, 107]])"
            ]
          },
          "metadata": {},
          "execution_count": 8
        }
      ]
    },
    {
      "cell_type": "markdown",
      "source": [
        "É basicamente uma multiplicação de matrizes ( só que podemos ter n dimensões )\n",
        "\n",
        "- A : 5x3\n",
        "- B : 3x4\n",
        "- A @ B : 5x4"
      ],
      "metadata": {
        "id": "KeCuI8D4gzeu"
      }
    },
    {
      "cell_type": "code",
      "source": [
        "A = torch.tensor([[7, 6, 5]])\n",
        "\n",
        "B = torch.tensor([[0, 1, 2, 3],\n",
        "                  [3, 4, 5, 6],\n",
        "                  [7, 8, 9, 10]])\n",
        "\n",
        "C = A @ B\n",
        "C"
      ],
      "metadata": {
        "id": "MHMF7lpviQoP",
        "outputId": "9702b406-b044-4d74-d663-52a0da9f5615",
        "colab": {
          "base_uri": "https://localhost:8080/"
        }
      },
      "execution_count": 9,
      "outputs": [
        {
          "output_type": "execute_result",
          "data": {
            "text/plain": [
              "tensor([[ 53,  71,  89, 107]])"
            ]
          },
          "metadata": {},
          "execution_count": 9
        }
      ]
    },
    {
      "cell_type": "markdown",
      "source": [
        "Além disso podemos **TRANSPOR** tensores"
      ],
      "metadata": {
        "id": "f1e3hwbOiN_w"
      }
    },
    {
      "cell_type": "code",
      "source": [
        "M = torch.tensor([[0, 1, 2, 3],\n",
        "                  [3, 4, 5, 6],\n",
        "                  [7, 8, 9, 10]])\n",
        "M.t()"
      ],
      "metadata": {
        "id": "O4PuVNGMhf0x",
        "outputId": "53432b63-ce8e-4a7b-f34b-0389e7068c62",
        "colab": {
          "base_uri": "https://localhost:8080/"
        }
      },
      "execution_count": 10,
      "outputs": [
        {
          "output_type": "execute_result",
          "data": {
            "text/plain": [
              "tensor([[ 0,  3,  7],\n",
              "        [ 1,  4,  8],\n",
              "        [ 2,  5,  9],\n",
              "        [ 3,  6, 10]])"
            ]
          },
          "metadata": {},
          "execution_count": 10
        }
      ]
    },
    {
      "cell_type": "markdown",
      "source": [
        "MATRIZ é um **TENSOR 2D**"
      ],
      "metadata": {
        "id": "Ge_dFzH6hypJ"
      }
    },
    {
      "cell_type": "markdown",
      "source": [
        "### Algumas propriedades e funções dos TENSORES"
      ],
      "metadata": {
        "id": "z4NaZnEEepGq"
      }
    },
    {
      "cell_type": "markdown",
      "source": [
        "**torch.empty**\n",
        "\n",
        "Cria um tensor não inicializado com o formato especificado. (lixo de memória.)"
      ],
      "metadata": {
        "id": "C4fa5spLe4xR"
      }
    },
    {
      "cell_type": "code",
      "source": [
        "import torch\n",
        "\n",
        "tensor = torch.empty(2,3) # tensor 2x3\n",
        "\n",
        "tensor2 = torch.empty(2,3,4, dtype=torch.float64)\n",
        "\n",
        "# autograd records operations of the tensor\n",
        "tensor3 = torch.empty(2,3, requires_grad=True)"
      ],
      "metadata": {
        "id": "mkZ6Cq6Me2FC"
      },
      "execution_count": 12,
      "outputs": []
    },
    {
      "cell_type": "markdown",
      "source": [
        "OBS : requires_grad = True -> importante salvar as operacoes pra poder fazer o backpropagation depois."
      ],
      "metadata": {
        "id": "CFIWst25piiS"
      }
    },
    {
      "cell_type": "markdown",
      "source": [
        "**torch.full**\n",
        "\n",
        "cria um tensor com determinado tamanho e preenche tudo com um valor específico.\n",
        "\n"
      ],
      "metadata": {
        "id": "7Jjz3jQeftBy"
      }
    },
    {
      "cell_type": "code",
      "source": [
        "tensor = torch.full((3,3), 7) # 3x3 com valor 7"
      ],
      "metadata": {
        "id": "hrqvbE7ggD75"
      },
      "execution_count": 13,
      "outputs": []
    },
    {
      "cell_type": "markdown",
      "source": [
        "**torch.cat**\n",
        "\n",
        "a funcao cat concatena (junta) dois ou mais tensores ao longo de uma dimensao especifica.\n",
        "\n",
        "útil para combinar tensores em uma única matriz ao longo de um eixo específico."
      ],
      "metadata": {
        "id": "2zAMNPy8gKTB"
      }
    },
    {
      "cell_type": "code",
      "source": [
        "tensor1 = torch.tensor([[1,2], [3,4]])\n",
        "tensor2 = torch.tensor([[5,6], [7,8]])\n",
        "\n",
        "result = torch.cat((tensor1, tensor2), dim=1) # horizontal\n",
        "result"
      ],
      "metadata": {
        "id": "whzT0GONgZFp",
        "outputId": "d7eee33b-a3b1-47d4-d1e4-54f1678d559f",
        "colab": {
          "base_uri": "https://localhost:8080/"
        }
      },
      "execution_count": 15,
      "outputs": [
        {
          "output_type": "execute_result",
          "data": {
            "text/plain": [
              "tensor([[1, 2, 5, 6],\n",
              "        [3, 4, 7, 8]])"
            ]
          },
          "metadata": {},
          "execution_count": 15
        }
      ]
    },
    {
      "cell_type": "code",
      "source": [
        "torch.cat((tensor1,tensor2), dim=0) # vertical"
      ],
      "metadata": {
        "id": "bAaC4O8zjqv6",
        "outputId": "1bb2dcd6-1ad1-41ee-f6ff-5885d81d2206",
        "colab": {
          "base_uri": "https://localhost:8080/"
        }
      },
      "execution_count": 16,
      "outputs": [
        {
          "output_type": "execute_result",
          "data": {
            "text/plain": [
              "tensor([[1, 2],\n",
              "        [3, 4],\n",
              "        [5, 6],\n",
              "        [7, 8]])"
            ]
          },
          "metadata": {},
          "execution_count": 16
        }
      ]
    },
    {
      "cell_type": "markdown",
      "source": [
        "**torch.reshape**\n",
        "\n",
        "usada pra alterar a forma (ou dimensao) de um tensor sem alterar os seus dados subjacentes."
      ],
      "metadata": {
        "id": "CPZDkZQRkPyZ"
      }
    },
    {
      "cell_type": "code",
      "source": [
        "tensor_1d = torch.tensor([1,2,3,4,5,6])\n",
        "print(tensor_1d)\n",
        "\n",
        "# remodelando para 2D\n",
        "tensor_2d = torch.reshape(tensor_1d, (2, 3)) # d1 = tam 2, d2 = tam 3 cada\n",
        "print(tensor_2d)"
      ],
      "metadata": {
        "id": "feNW91tJkb_R",
        "outputId": "3c66588f-d8bd-424c-eb5f-fd829f82c256",
        "colab": {
          "base_uri": "https://localhost:8080/"
        }
      },
      "execution_count": 21,
      "outputs": [
        {
          "output_type": "stream",
          "name": "stdout",
          "text": [
            "tensor([1, 2, 3, 4, 5, 6])\n",
            "tensor([[1, 2, 3],\n",
            "        [4, 5, 6]])\n"
          ]
        }
      ]
    },
    {
      "cell_type": "code",
      "source": [
        "tensor = torch.reshape(tensor_2d, (1,-1))\n",
        "tensor"
      ],
      "metadata": {
        "id": "f000Phcbkw1j",
        "outputId": "f6c46c0d-7ee3-4533-a46e-86f1a0c93a7a",
        "colab": {
          "base_uri": "https://localhost:8080/"
        }
      },
      "execution_count": 28,
      "outputs": [
        {
          "output_type": "execute_result",
          "data": {
            "text/plain": [
              "tensor([[1, 2, 3, 4, 5, 6]])"
            ]
          },
          "metadata": {},
          "execution_count": 28
        }
      ]
    },
    {
      "cell_type": "code",
      "source": [
        "tensor = torch.reshape(tensor, (3,2,-1)) # d1 = 3, d2 = 2, d3 = inferida (1)\n",
        "tensor"
      ],
      "metadata": {
        "id": "NiQRPCHTlg9C",
        "outputId": "2c805426-4091-4e5c-baff-be68404efb65",
        "colab": {
          "base_uri": "https://localhost:8080/"
        }
      },
      "execution_count": 35,
      "outputs": [
        {
          "output_type": "execute_result",
          "data": {
            "text/plain": [
              "tensor([[[1],\n",
              "         [2]],\n",
              "\n",
              "        [[3],\n",
              "         [4]],\n",
              "\n",
              "        [[5],\n",
              "         [6]]])"
            ]
          },
          "metadata": {},
          "execution_count": 35
        }
      ]
    },
    {
      "cell_type": "code",
      "source": [
        "tensor = torch.reshape(tensor_2d, (2,3,-1))\n",
        "tensor"
      ],
      "metadata": {
        "id": "YbxrZssUl_lK",
        "outputId": "2fec15c5-ef93-4424-8e97-e2c4b1704055",
        "colab": {
          "base_uri": "https://localhost:8080/"
        }
      },
      "execution_count": 37,
      "outputs": [
        {
          "output_type": "execute_result",
          "data": {
            "text/plain": [
              "tensor([[[1],\n",
              "         [2],\n",
              "         [3]],\n",
              "\n",
              "        [[4],\n",
              "         [5],\n",
              "         [6]]])"
            ]
          },
          "metadata": {},
          "execution_count": 37
        }
      ]
    },
    {
      "cell_type": "markdown",
      "source": [
        "**torch.randn**\n",
        "\n",
        "gera tensores com elementos amostrados a partir de uma normal padrao, util por exemplo em inicializar RNAs."
      ],
      "metadata": {
        "id": "okNsmjFCmK2Z"
      }
    },
    {
      "cell_type": "code",
      "source": [
        "tensor = torch.randn(2,4,5) # d1 = tam 2, d2 = tam4, d3 = tam5\n",
        "tensor"
      ],
      "metadata": {
        "id": "OCvscE7FmKiZ",
        "outputId": "1c24065a-cc30-419f-f0b8-bf9e068a22d4",
        "colab": {
          "base_uri": "https://localhost:8080/"
        }
      },
      "execution_count": 40,
      "outputs": [
        {
          "output_type": "execute_result",
          "data": {
            "text/plain": [
              "tensor([[[-1.2646, -1.4318,  0.3280,  0.2555,  2.4488],\n",
              "         [ 0.5989, -0.6183,  0.2397, -0.0943,  0.2298],\n",
              "         [ 0.6209, -0.7417, -0.3219, -0.6226,  0.7816],\n",
              "         [-1.4468,  1.3902,  1.9538,  0.4260, -0.3559]],\n",
              "\n",
              "        [[-0.4463,  1.1527, -0.2223, -0.2305,  2.4942],\n",
              "         [-1.6334,  1.2346, -0.6907,  0.6767, -0.9176],\n",
              "         [ 0.3336, -1.0917, -0.4600, -0.1556,  0.1675],\n",
              "         [ 0.3668,  0.4031, -0.2175, -0.0719,  1.0265]]])"
            ]
          },
          "metadata": {},
          "execution_count": 40
        }
      ]
    },
    {
      "cell_type": "markdown",
      "source": [
        "**torch.sum**\n",
        "\n",
        "soma ao longo de uma determinada dimensao"
      ],
      "metadata": {
        "id": "4LYqA8xDnYC5"
      }
    },
    {
      "cell_type": "code",
      "source": [
        "x = torch.tensor([[1,2,3],[4,5,6]])\n",
        "\n",
        "total_sum = torch.sum(x) # SOMA TODOS ELEMENTOS\n",
        "\n",
        "sum_dim0 = torch.sum(x, dim=0)\n",
        "sum_dim1 = torch.sum(x, dim=1)\n",
        "\n",
        "total_sum, sum_dim0, sum_dim1 # retorna tensores com esses valores!"
      ],
      "metadata": {
        "id": "QVWJoAkMnf5h",
        "outputId": "8d3e3379-dd2c-4cdc-bb5b-d274a24b34f5",
        "colab": {
          "base_uri": "https://localhost:8080/"
        }
      },
      "execution_count": 43,
      "outputs": [
        {
          "output_type": "execute_result",
          "data": {
            "text/plain": [
              "(tensor(21), tensor([5, 7, 9]), tensor([ 6, 15]))"
            ]
          },
          "metadata": {},
          "execution_count": 43
        }
      ]
    },
    {
      "cell_type": "markdown",
      "source": [
        "**torch.zero**\n",
        "\n",
        "zera todos elementos"
      ],
      "metadata": {
        "id": "QxmjVWt6oJjx"
      }
    },
    {
      "cell_type": "code",
      "source": [
        "x.zero_()\n",
        "x"
      ],
      "metadata": {
        "id": "IQAECnatokJa",
        "outputId": "bb548c2e-b5b8-4a29-fb95-273a414332a5",
        "colab": {
          "base_uri": "https://localhost:8080/"
        }
      },
      "execution_count": 45,
      "outputs": [
        {
          "output_type": "execute_result",
          "data": {
            "text/plain": [
              "tensor([[0, 0, 0],\n",
              "        [0, 0, 0]])"
            ]
          },
          "metadata": {},
          "execution_count": 45
        }
      ]
    },
    {
      "cell_type": "markdown",
      "source": [
        "**torch.from_numpy**\n",
        "\n",
        "funcao usada pra converter array numpy em um tensor.\n",
        "MAS qualquer alteracao feita no array vai alterar o tensor também (e vice-versa)."
      ],
      "metadata": {
        "id": "nx0YBG3AootB"
      }
    },
    {
      "cell_type": "markdown",
      "source": [
        "### **torch.backward**\n",
        "\n",
        "Essencial no treinamento das redes neurais. Usada para calcular os gradientes dos parâmetros do modelo em relacao a uma função de custo. Depois usados pra atualizar os pesos do modelo.\n",
        "\n",
        "(Gradient Descent / Backpropagation)\n",
        "\n",
        "- Calcula os gradientes : loss.backward(), realiza a retropropagacao atraves do grafo construido durante a computacao da perda, calcula os gradientes da funcao custo em relacao a todos os parametros que possuem **REQUIRES_GRAD = True**\n",
        "\n",
        "- Armazenamento dos Gradientes : Os gradientes calculados são armazenados nos atributos **.grad**, usados pelo otimizador pra ajustar os pesos durante o treinamento"
      ],
      "metadata": {
        "id": "XKJUciIGo7Qp"
      }
    },
    {
      "cell_type": "code",
      "source": [
        "x = torch.tensor(.3, )\n",
        "w = torch.tensor(.4, requires_grad=True)\n",
        "b = torch.tensor(.5, requires_grad=True)\n",
        "\n",
        "y = w*x+b\n",
        "y"
      ],
      "metadata": {
        "id": "Wpquc4S4qFZR",
        "outputId": "e88b1ed9-b86a-4a4f-e7bd-49a4b6d74fa5",
        "colab": {
          "base_uri": "https://localhost:8080/"
        }
      },
      "execution_count": 53,
      "outputs": [
        {
          "output_type": "execute_result",
          "data": {
            "text/plain": [
              "tensor(0.6200, grad_fn=<AddBackward0>)"
            ]
          },
          "metadata": {},
          "execution_count": 53
        }
      ]
    },
    {
      "cell_type": "code",
      "source": [
        "y.backward()\n",
        "\n",
        "print(\"dy/dw = \", w.grad) # y em relacao a w = x\n",
        "print(\"dy/dx = \", x.grad) # y em relacao a x, DEVERIA ser = w. MAS nao ativei o require_grad\n",
        "print(\"dy/db = \", b.grad) # y em relacao a b = 1"
      ],
      "metadata": {
        "id": "BUFEdqc1qYb5",
        "outputId": "cea5ad99-078e-441c-b69d-0dba12b8d7ea",
        "colab": {
          "base_uri": "https://localhost:8080/"
        }
      },
      "execution_count": 54,
      "outputs": [
        {
          "output_type": "stream",
          "name": "stdout",
          "text": [
            "dy/dw =  tensor(0.3000)\n",
            "dy/dx =  None\n",
            "dy/db =  tensor(1.)\n"
          ]
        }
      ]
    },
    {
      "cell_type": "markdown",
      "source": [
        "**torch.no_grad()**\n",
        "\n",
        "A função é um contexto gerenciador que desativa a computação do gradiente.\n",
        "\n",
        "Durante a inferencia ou avaliacao do modelo, para economizar memoria e melhorar a eficiencia, vale a pena."
      ],
      "metadata": {
        "id": "0e3qpd1-rPUJ"
      }
    },
    {
      "cell_type": "markdown",
      "source": [
        "# Regressão Linear com Pytorch"
      ],
      "metadata": {
        "id": "xVlrn7wjsCaB"
      }
    }
  ]
}